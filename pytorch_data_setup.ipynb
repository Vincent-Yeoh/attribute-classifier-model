{
 "cells": [
  {
   "cell_type": "code",
   "execution_count": 2,
   "metadata": {},
   "outputs": [
    {
     "name": "stdout",
     "output_type": "stream",
     "text": [
      "Overwriting modular/data_setup.py\n"
     ]
    },
    {
     "ename": "",
     "evalue": "",
     "output_type": "error",
     "traceback": [
      "\u001b[1;31mThe Kernel crashed while executing code in the the current cell or a previous cell. Please review the code in the cell(s) to identify a possible cause of the failure. Click <a href='https://aka.ms/vscodeJupyterKernelCrash'>here</a> for more info. View Jupyter <a href='command:jupyter.viewOutput'>log</a> for further details."
     ]
    }
   ],
   "source": [
    "%%writefile modular/data_setup.py\n",
    "import torch\n",
    "from PIL import Image\n",
    "from torch.utils.data import Dataset\n",
    "from typing import Dict,List,Tuple\n",
    "from torch.utils.data import DataLoader\n",
    "from torchvision import datasets, transforms\n",
    "from sklearn.preprocessing import MultiLabelBinarizer\n",
    "from skmultilearn.model_selection import iterative_train_test_split\n",
    "import pathlib\n",
    "from modular import utils\n",
    "from pathlib import Path\n",
    "import os\n",
    "import numpy as np\n",
    "from datasets import load_dataset\n",
    "\n",
    "\n",
    "def create_dataloaders(image_dir: str, batch_size:int, train_transform:transforms.Compose = None, test_transform: transforms.Compose = None, target_transform=None):\n",
    "    image_dataset_path = image_dir / 'image'\n",
    "    image_dataset = list(pathlib.Path(image_dataset_path).glob('*.jpg'))\n",
    "    image_dict = {path.stem: path for path in image_dataset}\n",
    "    attribute_dict = utils.load_json(image_dir / 'attribute_dict.json')\n",
    "    mlb = MultiLabelBinarizer()\n",
    "    \n",
    "    X = [{x['image_id']:x['bbox']} for x in attribute_dict]\n",
    "    y = mlb.fit_transform([x['attribute'] for x in attribute_dict])\n",
    "    \n",
    "    classes = mlb.classes_.tolist()\n",
    "    X = np.array(X)[..., np.newaxis]\n",
    "    X_train, y_train, X_test, y_test = iterative_train_test_split(X,y,test_size=0.2)\n",
    "    X_train, X_test = np.squeeze(X_train), np.squeeze(X_test)\n",
    "    \n",
    "    train_data = MultiLabelCustom(X=X_train, y=y_train, image_dict=image_dict, classes=classes, transform=train_transform, target_transform=target_transform)\n",
    "    test_data = MultiLabelCustom(X=X_test, y=y_test, image_dict=image_dict, classes=classes, transform=test_transform, target_transform=target_transform)\n",
    "    train_dataloader = DataLoader(dataset=train_data,\n",
    "                                  \n",
    "                                  batch_size=batch_size,\n",
    "                                  shuffle=True,\n",
    "                                  pin_memory=True\n",
    "                                    )\n",
    "    test_dataloader = DataLoader(dataset=test_data,\n",
    "                                 batch_size=batch_size,\n",
    "                                 shuffle=False,\n",
    "                                 pin_memory=True) \n",
    "    return train_dataloader, test_dataloader, classes\n",
    "\n",
    "\n",
    "class MultiLabelCustom(Dataset):\n",
    "    def __init__(self, X, y, image_dict, classes, transform=None, target_transform=None):\n",
    "        self.image_ids = X\n",
    "        self.output = y\n",
    "        self.classes = classes\n",
    "        self.transform = transform\n",
    "        self.target_transform = target_transform\n",
    "        self.image_dict = image_dict\n",
    "   \n",
    "    \n",
    "    def load_image(self, index: int) -> Image.Image:\n",
    "        \"Opens an image via a path and returns it.\"\n",
    "        for idx, bbox in self.image_ids[index].items():\n",
    "            image_id = idx\n",
    "            image_bbox = bbox\n",
    "        image_path = self.image_dict[image_id]\n",
    "        cropped_image = utils.crop_img(Image.open(image_path), image_bbox)\n",
    "        return cropped_image\n",
    "    \n",
    "    def __len__(self) -> int:\n",
    "        return len(self.image_ids)\n",
    "    \n",
    "    def __getitem__(self, index:int) -> Tuple[torch.Tensor, List]:\n",
    "        image = self.load_image(index)\n",
    "        labels = torch.tensor(self.output[index], dtype=torch.float32)\n",
    "        \n",
    "        if self.transform:\n",
    "            image = self.transform(image)\n",
    "        if self.target_transform:\n",
    "            labels = self.target_transform(labels)\n",
    "        return image, labels\n",
    "    \n",
    "\n",
    "def one_hot_encode(labels, classes: list = None):\n",
    "    mlb = MultiLabelBinarizer()\n",
    "    if classes:\n",
    "        mlb.fit(classes)\n",
    "    else:\n",
    "        mlb.fit(labels)\n",
    "    return mlb.transform(labels)\n"
   ]
  }
 ],
 "metadata": {
  "kernelspec": {
   "display_name": "torch",
   "language": "python",
   "name": "torch"
  },
  "language_info": {
   "codemirror_mode": {
    "name": "ipython",
    "version": 3
   },
   "file_extension": ".py",
   "mimetype": "text/x-python",
   "name": "python",
   "nbconvert_exporter": "python",
   "pygments_lexer": "ipython3",
   "version": "3.10.11"
  }
 },
 "nbformat": 4,
 "nbformat_minor": 2
}
